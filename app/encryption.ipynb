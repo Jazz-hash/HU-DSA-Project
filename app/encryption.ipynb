{
 "cells": [
  {
   "cell_type": "code",
   "execution_count": 20,
   "metadata": {},
   "outputs": [],
   "source": [
    "import string    \n",
    "import random\n",
    "import re"
   ]
  },
  {
   "cell_type": "code",
   "execution_count": 153,
   "metadata": {},
   "outputs": [],
   "source": [
    "sentence = \"The quick brown fox jumped over the lazy dog.\"\n",
    "paragraph = \"Lorem Ipsum is simply dummy text of the printing and typesetting industry. Lorem Ipsum has been the industry's standard dummy text ever since the 1500s, when an unknown printer took a galley of type and scrambled it to make a type specimen book. It has survived not only five centuries, but also the leap into electronic typesetting, remaining essentially unchanged. It was popularised in the 1960s with the release of Letraset sheets containing Lorem Ipsum passages, and more recently with desktop publishing software like Aldus PageMaker including versions of Lorem Ipsum.\""
   ]
  },
  {
   "cell_type": "code",
   "execution_count": 154,
   "metadata": {},
   "outputs": [
    {
     "data": {
      "text/plain": [
       "'ib1ohdm0ry'"
      ]
     },
     "execution_count": 154,
     "metadata": {},
     "output_type": "execute_result"
    }
   ],
   "source": [
    "S = 10\n",
    "ran = ''.join(random.choices(string.ascii_lowercase + string.digits, k = S))    \n",
    "key = str(ran)\n",
    "key"
   ]
  },
  {
   "cell_type": "code",
   "execution_count": 155,
   "metadata": {},
   "outputs": [
    {
     "data": {
      "text/plain": [
       "['lorem ipsum is simply dummy text of the printing and typesetting industry',\n",
       " \" lorem ipsum has been the industry's standard dummy text ever since the 1500s, when an unknown printer took a galley of type and scrambled it to make a type specimen book\",\n",
       " ' it has survived not only five centuries, but also the leap into electronic typesetting, remaining essentially unchanged',\n",
       " ' it was popularised in the 1960s with the release of letraset sheets containing lorem ipsum passages, and more recently with desktop publishing software like aldus pagemaker including versions of lorem ipsum']"
      ]
     },
     "execution_count": 155,
     "metadata": {},
     "output_type": "execute_result"
    }
   ],
   "source": [
    "sentence = paragraph.lower().split(\".\")[:-1]\n",
    "sentence"
   ]
  },
  {
   "cell_type": "code",
   "execution_count": 156,
   "metadata": {},
   "outputs": [
    {
     "data": {
      "text/plain": [
       "['lorem',\n",
       " 'ipsum',\n",
       " 'is',\n",
       " 'simply',\n",
       " 'dummy',\n",
       " 'text',\n",
       " 'of',\n",
       " 'the',\n",
       " 'printing',\n",
       " 'and',\n",
       " 'typesetting',\n",
       " 'industry',\n",
       " 'lorem',\n",
       " 'ipsum',\n",
       " 'has',\n",
       " 'been',\n",
       " 'the',\n",
       " 'industrys',\n",
       " 'standard',\n",
       " 'dummy',\n",
       " 'text',\n",
       " 'ever',\n",
       " 'since',\n",
       " 'the',\n",
       " '1500s',\n",
       " 'when',\n",
       " 'an',\n",
       " 'unknown',\n",
       " 'printer',\n",
       " 'took',\n",
       " 'a',\n",
       " 'galley',\n",
       " 'of',\n",
       " 'type',\n",
       " 'and',\n",
       " 'scrambled',\n",
       " 'it',\n",
       " 'to',\n",
       " 'make',\n",
       " 'a',\n",
       " 'type',\n",
       " 'specimen',\n",
       " 'book',\n",
       " 'it',\n",
       " 'has',\n",
       " 'survived',\n",
       " 'not',\n",
       " 'only',\n",
       " 'five',\n",
       " 'centuries',\n",
       " 'but',\n",
       " 'also',\n",
       " 'the',\n",
       " 'leap',\n",
       " 'into',\n",
       " 'electronic',\n",
       " 'typesetting',\n",
       " 'remaining',\n",
       " 'essentially',\n",
       " 'unchanged',\n",
       " 'it',\n",
       " 'was',\n",
       " 'popularised',\n",
       " 'in',\n",
       " 'the',\n",
       " '1960s',\n",
       " 'with',\n",
       " 'the',\n",
       " 'release',\n",
       " 'of',\n",
       " 'letraset',\n",
       " 'sheets',\n",
       " 'containing',\n",
       " 'lorem',\n",
       " 'ipsum',\n",
       " 'passages',\n",
       " 'and',\n",
       " 'more',\n",
       " 'recently',\n",
       " 'with',\n",
       " 'desktop',\n",
       " 'publishing',\n",
       " 'software',\n",
       " 'like',\n",
       " 'aldus',\n",
       " 'pagemaker',\n",
       " 'including',\n",
       " 'versions',\n",
       " 'of',\n",
       " 'lorem',\n",
       " 'ipsum']"
      ]
     },
     "execution_count": 156,
     "metadata": {},
     "output_type": "execute_result"
    }
   ],
   "source": [
    "def getWordsFromSentence(sentence):\n",
    "    wordsList = []\n",
    "    for sentence in sentences:\n",
    "        wordsList += re.sub('['+string.punctuation+']', '', sentence).split()\n",
    "    return wordsList\n",
    "\n",
    "words = getWordsFromLineList(sentence)\n",
    "words"
   ]
  },
  {
   "cell_type": "code",
   "execution_count": 157,
   "metadata": {},
   "outputs": [
    {
     "data": {
      "text/plain": [
       "[('lorem', 4),\n",
       " ('ipsum', 4),\n",
       " ('is', 1),\n",
       " ('simply', 1),\n",
       " ('dummy', 2),\n",
       " ('text', 2),\n",
       " ('of', 4),\n",
       " ('the', 6),\n",
       " ('printing', 1),\n",
       " ('and', 3),\n",
       " ('typesetting', 2),\n",
       " ('industry', 1),\n",
       " ('has', 2),\n",
       " ('been', 1),\n",
       " ('industrys', 1),\n",
       " ('standard', 1),\n",
       " ('ever', 1),\n",
       " ('since', 1),\n",
       " ('1500s', 1),\n",
       " ('when', 1),\n",
       " ('an', 1),\n",
       " ('unknown', 1),\n",
       " ('printer', 1),\n",
       " ('took', 1),\n",
       " ('a', 2),\n",
       " ('galley', 1),\n",
       " ('type', 2),\n",
       " ('scrambled', 1),\n",
       " ('it', 3),\n",
       " ('to', 1),\n",
       " ('make', 1),\n",
       " ('specimen', 1),\n",
       " ('book', 1),\n",
       " ('survived', 1),\n",
       " ('not', 1),\n",
       " ('only', 1),\n",
       " ('five', 1),\n",
       " ('centuries', 1),\n",
       " ('but', 1),\n",
       " ('also', 1),\n",
       " ('leap', 1),\n",
       " ('into', 1),\n",
       " ('electronic', 1),\n",
       " ('remaining', 1),\n",
       " ('essentially', 1),\n",
       " ('unchanged', 1),\n",
       " ('was', 1),\n",
       " ('popularised', 1),\n",
       " ('in', 1),\n",
       " ('1960s', 1),\n",
       " ('with', 2),\n",
       " ('release', 1),\n",
       " ('letraset', 1),\n",
       " ('sheets', 1),\n",
       " ('containing', 1),\n",
       " ('passages', 1),\n",
       " ('more', 1),\n",
       " ('recently', 1),\n",
       " ('desktop', 1),\n",
       " ('publishing', 1),\n",
       " ('software', 1),\n",
       " ('like', 1),\n",
       " ('aldus', 1),\n",
       " ('pagemaker', 1),\n",
       " ('including', 1),\n",
       " ('versions', 1)]"
      ]
     },
     "execution_count": 157,
     "metadata": {},
     "output_type": "execute_result"
    }
   ],
   "source": [
    "def countFrequency(wordsList):\n",
    "    wordsWithFrequencies = {}\n",
    "    for word in wordsList:\n",
    "        wordsWithFrequencies[word] = wordsWithFrequencies.get(word, 0) + 1\n",
    "    return list(wordsWithFrequencies.items())\n",
    "\n",
    "wordsWithFrequencies = countFrequency(words)\n",
    "wordsWithFrequencies"
   ]
  },
  {
   "cell_type": "code",
   "execution_count": 158,
   "metadata": {},
   "outputs": [
    {
     "data": {
      "text/plain": [
       "[(4, 3), (1, 53), (2, 7), (6, 1), (3, 2)]"
      ]
     },
     "execution_count": 158,
     "metadata": {},
     "output_type": "execute_result"
    }
   ],
   "source": [
    "def countFrequencyLength(wordsWithFrequencies):\n",
    "    frequencies = {}\n",
    "    for word, frequency in wordsWithFrequencies:\n",
    "        frequencies[frequency] = frequencies.get(frequency, 0) + 1\n",
    "    return list(frequencies.items())\n",
    "\n",
    "frequencies = countFrequencyLength(wordsWithFrequencies)\n",
    "frequencies"
   ]
  },
  {
   "cell_type": "code",
   "execution_count": 159,
   "metadata": {},
   "outputs": [
    {
     "data": {
      "text/plain": [
       "1"
      ]
     },
     "execution_count": 159,
     "metadata": {},
     "output_type": "execute_result"
    }
   ],
   "source": [
    "def bubble_sort(lst):\n",
    "    if len(lst) == 1:\n",
    "        return print(lst)\n",
    "        \n",
    "    for i in range(len(lst) - 1): \n",
    "        for j in range(0, len(lst) - i -1): \n",
    "            if lst[j][1] < lst[j + 1][1]: \n",
    "                lst[j], lst[j + 1] = lst[j + 1], lst[j] \n",
    "    return lst\n",
    "        \n",
    "maximumFrequencyOccurence = bubble_sort(frequencies)[0][0]\n",
    "maximumFrequencyOccurence"
   ]
  },
  {
   "cell_type": "code",
   "execution_count": 160,
   "metadata": {},
   "outputs": [
    {
     "data": {
      "text/plain": [
       "{'is': '105ib1oh105115dm0ry121',\n",
       " 'simply': '105ib1oh115105109112108121dm0ry121',\n",
       " 'printing': '105ib1oh112114105110116105110103dm0ry121',\n",
       " 'industry': '105ib1oh105110100117115116114121dm0ry121',\n",
       " 'been': '105ib1oh098101101110dm0ry121',\n",
       " 'industrys': '105ib1oh105110100117115116114121115dm0ry121',\n",
       " 'standard': '105ib1oh115116097110100097114100dm0ry121',\n",
       " 'ever': '105ib1oh101118101114dm0ry121',\n",
       " 'since': '105ib1oh115105110099101dm0ry121',\n",
       " '1500s': '105ib1oh049053048048115dm0ry121',\n",
       " 'when': '105ib1oh119104101110dm0ry121',\n",
       " 'an': '105ib1oh097110dm0ry121',\n",
       " 'unknown': '105ib1oh117110107110111119110dm0ry121',\n",
       " 'printer': '105ib1oh112114105110116101114dm0ry121',\n",
       " 'took': '105ib1oh116111111107dm0ry121',\n",
       " 'galley': '105ib1oh103097108108101121dm0ry121',\n",
       " 'scrambled': '105ib1oh115099114097109098108101100dm0ry121',\n",
       " 'to': '105ib1oh116111dm0ry121',\n",
       " 'make': '105ib1oh109097107101dm0ry121',\n",
       " 'specimen': '105ib1oh115112101099105109101110dm0ry121',\n",
       " 'book': '105ib1oh098111111107dm0ry121',\n",
       " 'survived': '105ib1oh115117114118105118101100dm0ry121',\n",
       " 'not': '105ib1oh110111116dm0ry121',\n",
       " 'only': '105ib1oh111110108121dm0ry121',\n",
       " 'five': '105ib1oh102105118101dm0ry121',\n",
       " 'centuries': '105ib1oh099101110116117114105101115dm0ry121',\n",
       " 'but': '105ib1oh098117116dm0ry121',\n",
       " 'also': '105ib1oh097108115111dm0ry121',\n",
       " 'leap': '105ib1oh108101097112dm0ry121',\n",
       " 'into': '105ib1oh105110116111dm0ry121',\n",
       " 'electronic': '105ib1oh101108101099116114111110105099dm0ry121',\n",
       " 'remaining': '105ib1oh114101109097105110105110103dm0ry121',\n",
       " 'essentially': '105ib1oh101115115101110116105097108108121dm0ry121',\n",
       " 'unchanged': '105ib1oh117110099104097110103101100dm0ry121',\n",
       " 'was': '105ib1oh119097115dm0ry121',\n",
       " 'popularised': '105ib1oh112111112117108097114105115101100dm0ry121',\n",
       " 'in': '105ib1oh105110dm0ry121',\n",
       " '1960s': '105ib1oh049057054048115dm0ry121',\n",
       " 'release': '105ib1oh114101108101097115101dm0ry121',\n",
       " 'letraset': '105ib1oh108101116114097115101116dm0ry121',\n",
       " 'sheets': '105ib1oh115104101101116115dm0ry121',\n",
       " 'containing': '105ib1oh099111110116097105110105110103dm0ry121',\n",
       " 'passages': '105ib1oh112097115115097103101115dm0ry121',\n",
       " 'more': '105ib1oh109111114101dm0ry121',\n",
       " 'recently': '105ib1oh114101099101110116108121dm0ry121',\n",
       " 'desktop': '105ib1oh100101115107116111112dm0ry121',\n",
       " 'publishing': '105ib1oh112117098108105115104105110103dm0ry121',\n",
       " 'software': '105ib1oh115111102116119097114101dm0ry121',\n",
       " 'like': '105ib1oh108105107101dm0ry121',\n",
       " 'aldus': '105ib1oh097108100117115dm0ry121',\n",
       " 'pagemaker': '105ib1oh112097103101109097107101114dm0ry121',\n",
       " 'including': '105ib1oh105110099108117100105110103dm0ry121',\n",
       " 'versions': '105ib1oh118101114115105111110115dm0ry121'}"
      ]
     },
     "execution_count": 160,
     "metadata": {},
     "output_type": "execute_result"
    }
   ],
   "source": [
    "def replaceWords(words):\n",
    "    replacements = {}\n",
    "    for word, frequency in words:\n",
    "        if frequency == maximumFrequencyOccurence:\n",
    "            wordASCII = \"\"\n",
    "            for letter in word:\n",
    "                wordASCII += \"{0:03d}\".format(ord(letter))\n",
    "            newWord = str(ord(key[0])) + key[:len(key) // 2] + str(wordASCII) + key[len(key) // 2:] + str(ord(key[-1]))\n",
    "            replacements[word] = newWord\n",
    "    return replacements\n",
    "    \n",
    "replacedWords = replaceWords(wordsWithFrequencies)\n",
    "replacedWords"
   ]
  },
  {
   "cell_type": "code",
   "execution_count": 164,
   "metadata": {},
   "outputs": [
    {
     "data": {
      "text/plain": [
       "['lorem',\n",
       " 'ipsum',\n",
       " '105ib1oh105115dm0ry121',\n",
       " '105ib1oh115105109112108121dm0ry121',\n",
       " 'dummy',\n",
       " 'text',\n",
       " 'of',\n",
       " 'the',\n",
       " '105ib1oh112114105110116105110103dm0ry121',\n",
       " 'and',\n",
       " 'typesetting',\n",
       " '105ib1oh105110100117115116114121dm0ry121',\n",
       " 'lorem',\n",
       " 'ipsum',\n",
       " 'has',\n",
       " '105ib1oh098101101110dm0ry121',\n",
       " 'the',\n",
       " '105ib1oh105110100117115116114121115dm0ry121',\n",
       " '105ib1oh115116097110100097114100dm0ry121',\n",
       " 'dummy',\n",
       " 'text',\n",
       " '105ib1oh101118101114dm0ry121',\n",
       " '105ib1oh115105110099101dm0ry121',\n",
       " 'the',\n",
       " '105ib1oh049053048048115dm0ry121',\n",
       " '105ib1oh119104101110dm0ry121',\n",
       " '105ib1oh097110dm0ry121',\n",
       " '105ib1oh117110107110111119110dm0ry121',\n",
       " '105ib1oh112114105110116101114dm0ry121',\n",
       " '105ib1oh116111111107dm0ry121',\n",
       " 'a',\n",
       " '105ib1oh103097108108101121dm0ry121',\n",
       " 'of',\n",
       " 'type',\n",
       " 'and',\n",
       " '105ib1oh115099114097109098108101100dm0ry121',\n",
       " 'it',\n",
       " '105ib1oh116111dm0ry121',\n",
       " '105ib1oh109097107101dm0ry121',\n",
       " 'a',\n",
       " 'type',\n",
       " '105ib1oh115112101099105109101110dm0ry121',\n",
       " '105ib1oh098111111107dm0ry121',\n",
       " 'it',\n",
       " 'has',\n",
       " '105ib1oh115117114118105118101100dm0ry121',\n",
       " '105ib1oh110111116dm0ry121',\n",
       " '105ib1oh111110108121dm0ry121',\n",
       " '105ib1oh102105118101dm0ry121',\n",
       " '105ib1oh099101110116117114105101115dm0ry121',\n",
       " '105ib1oh098117116dm0ry121',\n",
       " '105ib1oh097108115111dm0ry121',\n",
       " 'the',\n",
       " '105ib1oh108101097112dm0ry121',\n",
       " '105ib1oh105110116111dm0ry121',\n",
       " '105ib1oh101108101099116114111110105099dm0ry121',\n",
       " 'typesetting',\n",
       " '105ib1oh114101109097105110105110103dm0ry121',\n",
       " '105ib1oh101115115101110116105097108108121dm0ry121',\n",
       " '105ib1oh117110099104097110103101100dm0ry121',\n",
       " 'it',\n",
       " '105ib1oh119097115dm0ry121',\n",
       " '105ib1oh112111112117108097114105115101100dm0ry121',\n",
       " '105ib1oh105110dm0ry121',\n",
       " 'the',\n",
       " '105ib1oh049057054048115dm0ry121',\n",
       " 'with',\n",
       " 'the',\n",
       " '105ib1oh114101108101097115101dm0ry121',\n",
       " 'of',\n",
       " '105ib1oh108101116114097115101116dm0ry121',\n",
       " '105ib1oh115104101101116115dm0ry121',\n",
       " '105ib1oh099111110116097105110105110103dm0ry121',\n",
       " 'lorem',\n",
       " 'ipsum',\n",
       " '105ib1oh112097115115097103101115dm0ry121',\n",
       " 'and',\n",
       " '105ib1oh109111114101dm0ry121',\n",
       " '105ib1oh114101099101110116108121dm0ry121',\n",
       " 'with',\n",
       " '105ib1oh100101115107116111112dm0ry121',\n",
       " '105ib1oh112117098108105115104105110103dm0ry121',\n",
       " '105ib1oh115111102116119097114101dm0ry121',\n",
       " '105ib1oh108105107101dm0ry121',\n",
       " '105ib1oh097108100117115dm0ry121',\n",
       " '105ib1oh112097103101109097107101114dm0ry121',\n",
       " '105ib1oh105110099108117100105110103dm0ry121',\n",
       " '105ib1oh118101114115105111110115dm0ry121',\n",
       " 'of',\n",
       " 'lorem',\n",
       " 'ipsum']"
      ]
     },
     "execution_count": 164,
     "metadata": {},
     "output_type": "execute_result"
    }
   ],
   "source": [
    "def replaceInput(words, replacedWords):\n",
    "    for word, replacement in replacedWords.items():\n",
    "        if word in words:\n",
    "            index = words.index(word)\n",
    "            words[index] = replacement\n",
    "    return words\n",
    "\n",
    "encryptedWords = replaceInput(words, replacedWords)\n",
    "encryptedWords"
   ]
  },
  {
   "cell_type": "code",
   "execution_count": 165,
   "metadata": {},
   "outputs": [
    {
     "data": {
      "text/plain": [
       "'lorem ipsum 105ib1oh105115dm0ry121 105ib1oh115105109112108121dm0ry121 dummy text of the 105ib1oh112114105110116105110103dm0ry121 and typesetting 105ib1oh105110100117115116114121dm0ry121 lorem ipsum has 105ib1oh098101101110dm0ry121 the 105ib1oh105110100117115116114121115dm0ry121 105ib1oh115116097110100097114100dm0ry121 dummy text 105ib1oh101118101114dm0ry121 105ib1oh115105110099101dm0ry121 the 105ib1oh049053048048115dm0ry121 105ib1oh119104101110dm0ry121 105ib1oh097110dm0ry121 105ib1oh117110107110111119110dm0ry121 105ib1oh112114105110116101114dm0ry121 105ib1oh116111111107dm0ry121 a 105ib1oh103097108108101121dm0ry121 of type and 105ib1oh115099114097109098108101100dm0ry121 it 105ib1oh116111dm0ry121 105ib1oh109097107101dm0ry121 a type 105ib1oh115112101099105109101110dm0ry121 105ib1oh098111111107dm0ry121 it has 105ib1oh115117114118105118101100dm0ry121 105ib1oh110111116dm0ry121 105ib1oh111110108121dm0ry121 105ib1oh102105118101dm0ry121 105ib1oh099101110116117114105101115dm0ry121 105ib1oh098117116dm0ry121 105ib1oh097108115111dm0ry121 the 105ib1oh108101097112dm0ry121 105ib1oh105110116111dm0ry121 105ib1oh101108101099116114111110105099dm0ry121 typesetting 105ib1oh114101109097105110105110103dm0ry121 105ib1oh101115115101110116105097108108121dm0ry121 105ib1oh117110099104097110103101100dm0ry121 it 105ib1oh119097115dm0ry121 105ib1oh112111112117108097114105115101100dm0ry121 105ib1oh105110dm0ry121 the 105ib1oh049057054048115dm0ry121 with the 105ib1oh114101108101097115101dm0ry121 of 105ib1oh108101116114097115101116dm0ry121 105ib1oh115104101101116115dm0ry121 105ib1oh099111110116097105110105110103dm0ry121 lorem ipsum 105ib1oh112097115115097103101115dm0ry121 and 105ib1oh109111114101dm0ry121 105ib1oh114101099101110116108121dm0ry121 with 105ib1oh100101115107116111112dm0ry121 105ib1oh112117098108105115104105110103dm0ry121 105ib1oh115111102116119097114101dm0ry121 105ib1oh108105107101dm0ry121 105ib1oh097108100117115dm0ry121 105ib1oh112097103101109097107101114dm0ry121 105ib1oh105110099108117100105110103dm0ry121 105ib1oh118101114115105111110115dm0ry121 of lorem ipsum'"
      ]
     },
     "execution_count": 165,
     "metadata": {},
     "output_type": "execute_result"
    }
   ],
   "source": [
    "def returnEncryptedData(encryptedWords):\n",
    "    return \" \".join(encryptedWords)\n",
    "\n",
    "returnEncryptedData(encryptedWords)"
   ]
  },
  {
   "cell_type": "code",
   "execution_count": null,
   "metadata": {},
   "outputs": [],
   "source": []
  }
 ],
 "metadata": {
  "kernelspec": {
   "display_name": "Python 3",
   "language": "python",
   "name": "python3"
  },
  "language_info": {
   "codemirror_mode": {
    "name": "ipython",
    "version": 3
   },
   "file_extension": ".py",
   "mimetype": "text/x-python",
   "name": "python",
   "nbconvert_exporter": "python",
   "pygments_lexer": "ipython3",
   "version": "3.8.5"
  }
 },
 "nbformat": 4,
 "nbformat_minor": 4
}
