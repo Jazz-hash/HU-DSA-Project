{
 "cells": [
  {
   "cell_type": "code",
   "execution_count": 5,
   "metadata": {},
   "outputs": [],
   "source": [
    "key = 'ib1ohdm0rz'\n",
    "encrypted = 'lorem ipsum 105ib1oh105115dm0ry121 105ib1oh115105109112108121dm0ry121 dummy text of the 105ib1oh112114105110116105110103dm0ry121 and typesetting 105ib1oh105110100117115116114121dm0ry121 lorem ipsum has 105ib1oh098101101110dm0ry121 the 105ib1oh105110100117115116114121115dm0ry121 105ib1oh115116097110100097114100dm0ry121 dummy text 105ib1oh101118101114dm0ry121 105ib1oh115105110099101dm0ry121 the 105ib1oh049053048048115dm0ry121 105ib1oh119104101110dm0ry121 105ib1oh097110dm0ry121 105ib1oh117110107110111119110dm0ry121 105ib1oh112114105110116101114dm0ry121 105ib1oh116111111107dm0ry121 a 105ib1oh103097108108101121dm0ry121 of type and 105ib1oh115099114097109098108101100dm0ry121 it 105ib1oh116111dm0ry121 105ib1oh109097107101dm0ry121 a type 105ib1oh115112101099105109101110dm0ry121 105ib1oh098111111107dm0ry121 it has 105ib1oh115117114118105118101100dm0ry121 105ib1oh110111116dm0ry121 105ib1oh111110108121dm0ry121 105ib1oh102105118101dm0ry121 105ib1oh099101110116117114105101115dm0ry121 105ib1oh098117116dm0ry121 105ib1oh097108115111dm0ry121 the 105ib1oh108101097112dm0ry121 105ib1oh105110116111dm0ry121 105ib1oh101108101099116114111110105099dm0ry121 typesetting 105ib1oh114101109097105110105110103dm0ry121 105ib1oh101115115101110116105097108108121dm0ry121 105ib1oh117110099104097110103101100dm0ry121 it 105ib1oh119097115dm0ry121 105ib1oh112111112117108097114105115101100dm0ry121 105ib1oh105110dm0ry121 the 105ib1oh049057054048115dm0ry121 with the 105ib1oh114101108101097115101dm0ry121 of 105ib1oh108101116114097115101116dm0ry121 105ib1oh115104101101116115dm0ry121 105ib1oh099111110116097105110105110103dm0ry121 lorem ipsum 105ib1oh112097115115097103101115dm0ry121 and 105ib1oh109111114101dm0ry121 105ib1oh114101099101110116108121dm0ry121 with 105ib1oh100101115107116111112dm0ry121 105ib1oh112117098108105115104105110103dm0ry121 105ib1oh115111102116119097114101dm0ry121 105ib1oh108105107101dm0ry121 105ib1oh097108100117115dm0ry121 105ib1oh112097103101109097107101114dm0ry121 105ib1oh105110099108117100105110103dm0ry121 105ib1oh118101114115105111110115dm0ry121 of lorem ipsum'"
   ]
  },
  {
   "cell_type": "code",
   "execution_count": 6,
   "metadata": {},
   "outputs": [
    {
     "data": {
      "text/plain": [
       "['lorem',\n",
       " 'ipsum',\n",
       " '105ib1oh105115dm0ry121',\n",
       " '105ib1oh115105109112108121dm0ry121',\n",
       " 'dummy',\n",
       " 'text',\n",
       " 'of',\n",
       " 'the',\n",
       " '105ib1oh112114105110116105110103dm0ry121',\n",
       " 'and',\n",
       " 'typesetting',\n",
       " '105ib1oh105110100117115116114121dm0ry121',\n",
       " 'lorem',\n",
       " 'ipsum',\n",
       " 'has',\n",
       " '105ib1oh098101101110dm0ry121',\n",
       " 'the',\n",
       " '105ib1oh105110100117115116114121115dm0ry121',\n",
       " '105ib1oh115116097110100097114100dm0ry121',\n",
       " 'dummy',\n",
       " 'text',\n",
       " '105ib1oh101118101114dm0ry121',\n",
       " '105ib1oh115105110099101dm0ry121',\n",
       " 'the',\n",
       " '105ib1oh049053048048115dm0ry121',\n",
       " '105ib1oh119104101110dm0ry121',\n",
       " '105ib1oh097110dm0ry121',\n",
       " '105ib1oh117110107110111119110dm0ry121',\n",
       " '105ib1oh112114105110116101114dm0ry121',\n",
       " '105ib1oh116111111107dm0ry121',\n",
       " 'a',\n",
       " '105ib1oh103097108108101121dm0ry121',\n",
       " 'of',\n",
       " 'type',\n",
       " 'and',\n",
       " '105ib1oh115099114097109098108101100dm0ry121',\n",
       " 'it',\n",
       " '105ib1oh116111dm0ry121',\n",
       " '105ib1oh109097107101dm0ry121',\n",
       " 'a',\n",
       " 'type',\n",
       " '105ib1oh115112101099105109101110dm0ry121',\n",
       " '105ib1oh098111111107dm0ry121',\n",
       " 'it',\n",
       " 'has',\n",
       " '105ib1oh115117114118105118101100dm0ry121',\n",
       " '105ib1oh110111116dm0ry121',\n",
       " '105ib1oh111110108121dm0ry121',\n",
       " '105ib1oh102105118101dm0ry121',\n",
       " '105ib1oh099101110116117114105101115dm0ry121',\n",
       " '105ib1oh098117116dm0ry121',\n",
       " '105ib1oh097108115111dm0ry121',\n",
       " 'the',\n",
       " '105ib1oh108101097112dm0ry121',\n",
       " '105ib1oh105110116111dm0ry121',\n",
       " '105ib1oh101108101099116114111110105099dm0ry121',\n",
       " 'typesetting',\n",
       " '105ib1oh114101109097105110105110103dm0ry121',\n",
       " '105ib1oh101115115101110116105097108108121dm0ry121',\n",
       " '105ib1oh117110099104097110103101100dm0ry121',\n",
       " 'it',\n",
       " '105ib1oh119097115dm0ry121',\n",
       " '105ib1oh112111112117108097114105115101100dm0ry121',\n",
       " '105ib1oh105110dm0ry121',\n",
       " 'the',\n",
       " '105ib1oh049057054048115dm0ry121',\n",
       " 'with',\n",
       " 'the',\n",
       " '105ib1oh114101108101097115101dm0ry121',\n",
       " 'of',\n",
       " '105ib1oh108101116114097115101116dm0ry121',\n",
       " '105ib1oh115104101101116115dm0ry121',\n",
       " '105ib1oh099111110116097105110105110103dm0ry121',\n",
       " 'lorem',\n",
       " 'ipsum',\n",
       " '105ib1oh112097115115097103101115dm0ry121',\n",
       " 'and',\n",
       " '105ib1oh109111114101dm0ry121',\n",
       " '105ib1oh114101099101110116108121dm0ry121',\n",
       " 'with',\n",
       " '105ib1oh100101115107116111112dm0ry121',\n",
       " '105ib1oh112117098108105115104105110103dm0ry121',\n",
       " '105ib1oh115111102116119097114101dm0ry121',\n",
       " '105ib1oh108105107101dm0ry121',\n",
       " '105ib1oh097108100117115dm0ry121',\n",
       " '105ib1oh112097103101109097107101114dm0ry121',\n",
       " '105ib1oh105110099108117100105110103dm0ry121',\n",
       " '105ib1oh118101114115105111110115dm0ry121',\n",
       " 'of',\n",
       " 'lorem']"
      ]
     },
     "execution_count": 6,
     "metadata": {},
     "output_type": "execute_result"
    }
   ],
   "source": [
    "words = encrypted.lower().split(\" \")[:-1]\n",
    "words"
   ]
  },
  {
   "cell_type": "code",
   "execution_count": 15,
   "metadata": {},
   "outputs": [
    {
     "name": "stdout",
     "output_type": "stream",
     "text": [
      "ib1oh dm0rz\n"
     ]
    }
   ],
   "source": [
    "def replace(word, replacements):\n",
    "    word = word[:3].replace(replacements[0], \"\") + word[3:-3] +  word[-3:].replace(replacements[-1], \"\")\n",
    "    for replacement in replacements[1:-1]:\n",
    "        word = word.replace(replacement, \"\")\n",
    "    return word\n",
    "\n",
    "def enQueue(queue, item, priority = 0):\n",
    "    queue.append((item, priority))\n",
    "\n",
    "\n",
    "def removeKey(words, key):\n",
    "    keyLessWords = []\n",
    "    key0 = str(ord(key[0]))\n",
    "    key1 = key[:len(key) // 2]\n",
    "    key2 = key[len(key) // 2:]\n",
    "    key3 = str(ord(key[-1]))\n",
    "    print(key1, key2)\n",
    "    for word in words:\n",
    "        priority = 0\n",
    "        if word[:3] == key0:\n",
    "            print(word[3:6])\n",
    "            if key1 in word and key2 in word:\n",
    "                word = replace(word, [key0, key1, key2, key3])\n",
    "                priority = 1\n",
    "            else:\n",
    "                return None\n",
    "        enQueue(keyLessWords, word, priority)\n",
    "    return keyLessWords\n",
    "    \n",
    "keyLessWords = removeKey(words, key)\n",
    "keyLessWords"
   ]
  },
  {
   "cell_type": "code",
   "execution_count": 8,
   "metadata": {},
   "outputs": [
    {
     "ename": "ValueError",
     "evalue": "invalid literal for int() with base 10: 'dm0'",
     "output_type": "error",
     "traceback": [
      "\u001b[0;31m---------------------------------------------------------------------------\u001b[0m",
      "\u001b[0;31mValueError\u001b[0m                                Traceback (most recent call last)",
      "\u001b[0;32m<ipython-input-8-15a33fe8a454>\u001b[0m in \u001b[0;36m<module>\u001b[0;34m\u001b[0m\n\u001b[1;32m      7\u001b[0m     \u001b[0;32mreturn\u001b[0m \u001b[0mwords\u001b[0m\u001b[0;34m\u001b[0m\u001b[0;34m\u001b[0m\u001b[0m\n\u001b[1;32m      8\u001b[0m \u001b[0;34m\u001b[0m\u001b[0m\n\u001b[0;32m----> 9\u001b[0;31m \u001b[0mwords\u001b[0m \u001b[0;34m=\u001b[0m \u001b[0mconvertEncryptedToWords\u001b[0m\u001b[0;34m(\u001b[0m\u001b[0mkeyLessWords\u001b[0m\u001b[0;34m)\u001b[0m\u001b[0;34m\u001b[0m\u001b[0;34m\u001b[0m\u001b[0m\n\u001b[0m\u001b[1;32m     10\u001b[0m \u001b[0mwords\u001b[0m\u001b[0;34m\u001b[0m\u001b[0;34m\u001b[0m\u001b[0m\n",
      "\u001b[0;32m<ipython-input-8-15a33fe8a454>\u001b[0m in \u001b[0;36mconvertEncryptedToWords\u001b[0;34m(encrypted)\u001b[0m\n\u001b[1;32m      3\u001b[0m     \u001b[0;32mfor\u001b[0m \u001b[0mword\u001b[0m\u001b[0;34m,\u001b[0m \u001b[0mlevel\u001b[0m \u001b[0;32min\u001b[0m \u001b[0mencrypted\u001b[0m\u001b[0;34m:\u001b[0m\u001b[0;34m\u001b[0m\u001b[0;34m\u001b[0m\u001b[0m\n\u001b[1;32m      4\u001b[0m         \u001b[0;32mif\u001b[0m \u001b[0mlevel\u001b[0m \u001b[0;34m==\u001b[0m \u001b[0;36m1\u001b[0m\u001b[0;34m:\u001b[0m\u001b[0;34m\u001b[0m\u001b[0;34m\u001b[0m\u001b[0m\n\u001b[0;32m----> 5\u001b[0;31m             \u001b[0mword\u001b[0m \u001b[0;34m=\u001b[0m \u001b[0;34m\"\"\u001b[0m\u001b[0;34m.\u001b[0m\u001b[0mjoin\u001b[0m\u001b[0;34m(\u001b[0m\u001b[0;34m[\u001b[0m\u001b[0mstr\u001b[0m\u001b[0;34m(\u001b[0m\u001b[0mchr\u001b[0m\u001b[0;34m(\u001b[0m\u001b[0mint\u001b[0m\u001b[0;34m(\u001b[0m\u001b[0mword\u001b[0m\u001b[0;34m[\u001b[0m\u001b[0mi\u001b[0m\u001b[0;34m:\u001b[0m\u001b[0mi\u001b[0m\u001b[0;34m+\u001b[0m\u001b[0;36m3\u001b[0m\u001b[0;34m]\u001b[0m\u001b[0;34m)\u001b[0m\u001b[0;34m)\u001b[0m\u001b[0;34m)\u001b[0m \u001b[0;32mfor\u001b[0m \u001b[0mi\u001b[0m \u001b[0;32min\u001b[0m \u001b[0mrange\u001b[0m\u001b[0;34m(\u001b[0m\u001b[0;36m0\u001b[0m\u001b[0;34m,\u001b[0m \u001b[0mlen\u001b[0m\u001b[0;34m(\u001b[0m\u001b[0mword\u001b[0m\u001b[0;34m)\u001b[0m\u001b[0;34m,\u001b[0m \u001b[0;36m3\u001b[0m\u001b[0;34m)\u001b[0m\u001b[0;34m]\u001b[0m\u001b[0;34m)\u001b[0m\u001b[0;34m\u001b[0m\u001b[0;34m\u001b[0m\u001b[0m\n\u001b[0m\u001b[1;32m      6\u001b[0m         \u001b[0mwords\u001b[0m\u001b[0;34m.\u001b[0m\u001b[0mappend\u001b[0m\u001b[0;34m(\u001b[0m\u001b[0mword\u001b[0m\u001b[0;34m)\u001b[0m\u001b[0;34m\u001b[0m\u001b[0;34m\u001b[0m\u001b[0m\n\u001b[1;32m      7\u001b[0m     \u001b[0;32mreturn\u001b[0m \u001b[0mwords\u001b[0m\u001b[0;34m\u001b[0m\u001b[0;34m\u001b[0m\u001b[0m\n",
      "\u001b[0;32m<ipython-input-8-15a33fe8a454>\u001b[0m in \u001b[0;36m<listcomp>\u001b[0;34m(.0)\u001b[0m\n\u001b[1;32m      3\u001b[0m     \u001b[0;32mfor\u001b[0m \u001b[0mword\u001b[0m\u001b[0;34m,\u001b[0m \u001b[0mlevel\u001b[0m \u001b[0;32min\u001b[0m \u001b[0mencrypted\u001b[0m\u001b[0;34m:\u001b[0m\u001b[0;34m\u001b[0m\u001b[0;34m\u001b[0m\u001b[0m\n\u001b[1;32m      4\u001b[0m         \u001b[0;32mif\u001b[0m \u001b[0mlevel\u001b[0m \u001b[0;34m==\u001b[0m \u001b[0;36m1\u001b[0m\u001b[0;34m:\u001b[0m\u001b[0;34m\u001b[0m\u001b[0;34m\u001b[0m\u001b[0m\n\u001b[0;32m----> 5\u001b[0;31m             \u001b[0mword\u001b[0m \u001b[0;34m=\u001b[0m \u001b[0;34m\"\"\u001b[0m\u001b[0;34m.\u001b[0m\u001b[0mjoin\u001b[0m\u001b[0;34m(\u001b[0m\u001b[0;34m[\u001b[0m\u001b[0mstr\u001b[0m\u001b[0;34m(\u001b[0m\u001b[0mchr\u001b[0m\u001b[0;34m(\u001b[0m\u001b[0mint\u001b[0m\u001b[0;34m(\u001b[0m\u001b[0mword\u001b[0m\u001b[0;34m[\u001b[0m\u001b[0mi\u001b[0m\u001b[0;34m:\u001b[0m\u001b[0mi\u001b[0m\u001b[0;34m+\u001b[0m\u001b[0;36m3\u001b[0m\u001b[0;34m]\u001b[0m\u001b[0;34m)\u001b[0m\u001b[0;34m)\u001b[0m\u001b[0;34m)\u001b[0m \u001b[0;32mfor\u001b[0m \u001b[0mi\u001b[0m \u001b[0;32min\u001b[0m \u001b[0mrange\u001b[0m\u001b[0;34m(\u001b[0m\u001b[0;36m0\u001b[0m\u001b[0;34m,\u001b[0m \u001b[0mlen\u001b[0m\u001b[0;34m(\u001b[0m\u001b[0mword\u001b[0m\u001b[0;34m)\u001b[0m\u001b[0;34m,\u001b[0m \u001b[0;36m3\u001b[0m\u001b[0;34m)\u001b[0m\u001b[0;34m]\u001b[0m\u001b[0;34m)\u001b[0m\u001b[0;34m\u001b[0m\u001b[0;34m\u001b[0m\u001b[0m\n\u001b[0m\u001b[1;32m      6\u001b[0m         \u001b[0mwords\u001b[0m\u001b[0;34m.\u001b[0m\u001b[0mappend\u001b[0m\u001b[0;34m(\u001b[0m\u001b[0mword\u001b[0m\u001b[0;34m)\u001b[0m\u001b[0;34m\u001b[0m\u001b[0;34m\u001b[0m\u001b[0m\n\u001b[1;32m      7\u001b[0m     \u001b[0;32mreturn\u001b[0m \u001b[0mwords\u001b[0m\u001b[0;34m\u001b[0m\u001b[0;34m\u001b[0m\u001b[0m\n",
      "\u001b[0;31mValueError\u001b[0m: invalid literal for int() with base 10: 'dm0'"
     ]
    }
   ],
   "source": [
    "def convertEncryptedToWords(encrypted):\n",
    "    words = []\n",
    "    for word, level in encrypted:\n",
    "        if level == 1:\n",
    "            word = \"\".join([str(chr(int(word[i:i+3]))) for i in range(0, len(word), 3)])\n",
    "        words.append(word)\n",
    "    return words\n",
    "        \n",
    "words = convertEncryptedToWords(keyLessWords)  \n",
    "words"
   ]
  },
  {
   "cell_type": "code",
   "execution_count": 65,
   "metadata": {},
   "outputs": [
    {
     "data": {
      "text/plain": [
       "'lorem ipsum is simply dummy text of the printing and typesetting industry lorem ipsum has been the industrys standard dummy text ever since the 1500s when an unknown printer took a galley of type and scrambled it to make a type specimen book it has survived not only five centuries but also the leap into electronic typesetting remaining essentially unchanged it was popularised in the 1960s with the release of letraset sheets containing lorem ipsum passages and more recently with desktop publishing software like aldus pagemaker including versions of lorem'"
      ]
     },
     "execution_count": 65,
     "metadata": {},
     "output_type": "execute_result"
    }
   ],
   "source": [
    "def wordsToFile(words):\n",
    "    return \" \".join(words)\n",
    "\n",
    "result = wordsToFile(words)\n",
    "result"
   ]
  },
  {
   "cell_type": "code",
   "execution_count": null,
   "metadata": {},
   "outputs": [],
   "source": []
  }
 ],
 "metadata": {
  "kernelspec": {
   "display_name": "Python 3",
   "language": "python",
   "name": "python3"
  },
  "language_info": {
   "codemirror_mode": {
    "name": "ipython",
    "version": 3
   },
   "file_extension": ".py",
   "mimetype": "text/x-python",
   "name": "python",
   "nbconvert_exporter": "python",
   "pygments_lexer": "ipython3",
   "version": "3.8.5"
  }
 },
 "nbformat": 4,
 "nbformat_minor": 4
}
